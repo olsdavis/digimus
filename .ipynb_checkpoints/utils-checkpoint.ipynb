{
 "cells": [
  {
   "cell_type": "code",
   "execution_count": 9,
   "metadata": {},
   "outputs": [],
   "source": [
    "# import libraries\n",
    "from music21 import *\n",
    "from random import randint\n",
    "from copy import deepcopy\n",
    "import math\n",
    "import matplotlib.pyplot as plt\n",
    "import numpy as np"
   ]
  },
  {
   "cell_type": "markdown",
   "metadata": {},
   "source": [
    "### Structure\n",
    "Here is the generation of the sequence of transitions between the two emotions. The main idea is to come up with a sequence accelerating the transitions, in other words, the duration of each emotion will be shorter as the sequence continues. So we generate this sequence given the parts, their duration (number of measures), the maximum duration of one part and the wanted length of the result sequence.\n",
    "Basically, at each step of the algorithm, the next duration is randomly chosen between the current maximal duration variable and the current maximal duration variable minus one (*maxDuration - 1* and *maxDuration*), splitting by a quarter. The algorithm runs until the number of desired measures is obtained.\n",
    "\n",
    "*Note: the actual output sequence is note the one we used for out composition*"
   ]
  },
  {
   "cell_type": "code",
   "execution_count": 10,
   "metadata": {},
   "outputs": [],
   "source": [
    "# return a random duration\n",
    "def getDuration(maxDuration):\n",
    "    integer = randint(max(maxDuration - 1, 0), maxDuration)\n",
    "    frac = 0\n",
    "    if integer != maxDuration or maxDuration == 0:\n",
    "        frac = randint(0, 3) * 0.25\n",
    "    return integer + frac\n",
    "\n",
    "# check if other part have remaining measures\n",
    "def existOther(nextp, nameOfParts, parts):\n",
    "    rest = 0\n",
    "    for part in parts:\n",
    "        if part != nextp:\n",
    "            rest += parts[part]\n",
    "    return rest != 0\n",
    "\n",
    "# return next part\n",
    "def getNextPart(curr, numberOfParts, nameOfParts, parts):\n",
    "    nextp = randint(0, numberOfParts - 1)\n",
    "    while nextp == curr or parts[nameOfParts[nextp]] == 0:\n",
    "        nextp = randint(0, numberOfParts - 1)\n",
    "    return nextp\n",
    "\n",
    "# generate full sequence \n",
    "def generateSequence(parts, maxDuration, total):\n",
    "    # check arguments\n",
    "    assert parts != None\n",
    "    assert maxDuration != None\n",
    "    assert total != None\n",
    "    totalDuration = 0\n",
    "    for part in parts:\n",
    "        totalDuration += parts[part]\n",
    "    assert totalDuration - 0.5 >= total\n",
    "    # define usefull values\n",
    "    nameOfParts = [name for name in parts]\n",
    "    numberOfParts = len(nameOfParts)\n",
    "    # current part (represented by array index)\n",
    "    curr = randint(0, numberOfParts - 1)\n",
    "    result = []\n",
    "    count = 0\n",
    "    i = 0\n",
    "    duration = 0\n",
    "    lastDuration = 0\n",
    "    # generation\n",
    "    while count < total:\n",
    "        # determine the duration of the next measure(s)\n",
    "        lastDuration = duration\n",
    "        duration = getDuration(maxDuration)\n",
    "        while duration == lastDuration or duration == 0:\n",
    "            duration = getDuration(maxDuration)\n",
    "        # check that there is enough reamaining measures for current part\n",
    "        if duration < parts[nameOfParts[curr]]:\n",
    "            # check if this is only last possibility\n",
    "            if not existOther(curr, nameOfParts, parts):\n",
    "                result.append((nameOfParts[curr], total - count))\n",
    "                return result\n",
    "            # add section to the result\n",
    "            result.append((nameOfParts[curr], duration))\n",
    "            # increment count\n",
    "            count += duration\n",
    "            # decrement remaining measures for current part\n",
    "            parts[nameOfParts[curr]] -= duration\n",
    "        # select next part\n",
    "        curr = getNextPart(curr, numberOfParts, nameOfParts, parts)\n",
    "        # update maxDuration every 3 cycles\n",
    "        if i % 4 == 0 and maxDuration != 0:\n",
    "            maxDuration -= 1\n",
    "        i += 1\n",
    "    return result"
   ]
  },
  {
   "cell_type": "code",
   "execution_count": 13,
   "metadata": {},
   "outputs": [
    {
     "name": "stdout",
     "output_type": "stream",
     "text": [
      "('A', 6)\n",
      "('B', 5)\n",
      "('A', 4.0)\n",
      "('B', 5)\n",
      "('A', 4.75)\n",
      "('B', 3.75)\n",
      "('A', 3.25)\n",
      "('B', 4)\n",
      "('A', 3.5)\n",
      "('B', 2.25)\n",
      "('A', 3)\n",
      "('B', 2.75)\n",
      "('A', 2.25)\n",
      "('B', 1.25)\n",
      "('A', 2)\n",
      "('B', 1.75)\n",
      "('A', 1.5)\n",
      "('B', 0.5)\n",
      "('A', 0.25)\n",
      "('B', 1)\n",
      "('A', 0.25)\n",
      "('B', 0.75)\n",
      "('A', 0.5)\n",
      "('B', 0.75)\n"
     ]
    }
   ],
   "source": [
    "parts = {\n",
    "    \"A\": 32,\n",
    "    \"B\": 32,\n",
    "}\n",
    "maxDuration = 6\n",
    "total = 60\n",
    "\n",
    "sequence = generateSequence(parts, maxDuration, total)\n",
    "for part in sequence:\n",
    "    print(part)"
   ]
  },
  {
   "cell_type": "code",
   "execution_count": 14,
   "metadata": {},
   "outputs": [
    {
     "data": {
      "image/png": "[encoded data removed]",
      "text/plain": [
       "<Figure size 432x288 with 1 Axes>"
      ]
     },
     "metadata": {
      "image/png": {
       "height": 248,
       "width": 362
      },
      "needs_background": "light"
     },
     "output_type": "display_data"
    }
   ],
   "source": [
    "yplot = [part[1] for part in sequence]\n",
    "xAxis = [part[0] for part in sequence]\n",
    "xValue = np.arange(len(xAxis))\n",
    "plt.bar(xValue, yplot)\n",
    "plt.xticks(xValue, xAxis)\n",
    "plt.show()"
   ]
  },
  {
   "cell_type": "markdown",
   "metadata": {},
   "source": [
    "### Sequence of our piece\n",
    "Here is the sequence we obtained and used in our project."
   ]
  },
  {
   "cell_type": "code",
   "execution_count": 16,
   "metadata": {},
   "outputs": [
    {
     "data": {
      "image/png": "[encoded data removed]",
      "text/plain": [
       "<Figure size 432x288 with 1 Axes>"
      ]
     },
     "metadata": {
      "image/png": {
       "height": 248,
       "width": 362
      },
      "needs_background": "light"
     },
     "output_type": "display_data"
    }
   ],
   "source": [
    "result = [\n",
    "    ('A', 5.75),\n",
    "    ('B', 5),\n",
    "    ('A', 4.5),\n",
    "    ('B', 5),\n",
    "    ('A', 4.5),\n",
    "    ('B', 4),\n",
    "    ('A', 3.25),\n",
    "    ('B', 4),\n",
    "    ('A', 3.5),\n",
    "    ('B', 3),\n",
    "    ('A', 2),\n",
    "    ('B', 3),\n",
    "    ('A', 2.75),\n",
    "    ('B', 2),\n",
    "    ('A', 1.5),\n",
    "    ('B', 2),\n",
    "    ('A', 1),\n",
    "    ('B', 0.25),\n",
    "    ('A', 1),\n",
    "    ('B', 0.75),\n",
    "    ('A', 1),\n",
    "    ('B', 0.25),\n",
    "    ('A', 0.5),\n",
    "    ('B', 0.75),\n",
    "    ('A', 0.5),\n",
    "    ('B', 0.25),\n",
    "]\n",
    "\n",
    "yplot = [part[1] for part in sequence]\n",
    "xAxis = [part[0] for part in sequence]\n",
    "xValue = np.arange(len(xAxis))\n",
    "plt.bar(xValue, yplot)\n",
    "plt.xticks(xValue, xAxis)\n",
    "plt.show()"
   ]
  }
 ],
 "metadata": {
  "kernelspec": {
   "display_name": "Python 3",
   "language": "python",
   "name": "python3"
  },
  "language_info": {
   "codemirror_mode": {
    "name": "ipython",
    "version": 3
   },
   "file_extension": ".py",
   "mimetype": "text/x-python",
   "name": "python",
   "nbconvert_exporter": "python",
   "pygments_lexer": "ipython3",
   "version": "3.8.5"
  }
 },
 "nbformat": 4,
 "nbformat_minor": 4
}
