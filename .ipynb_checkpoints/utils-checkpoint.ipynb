{
 "cells": [
  {
   "cell_type": "code",
   "execution_count": 1,
   "metadata": {},
   "outputs": [],
   "source": [
    "# import libraries\n",
    "from music21 import *\n",
    "from random import randint\n",
    "from copy import deepcopy"
   ]
  },
  {
   "cell_type": "code",
   "execution_count": 2,
   "metadata": {},
   "outputs": [],
   "source": [
    "# example\n",
    "m1 = stream.Measure()\n",
    "m1.append(note.Note('C5'))\n",
    "part1 = [m1] * 8\n",
    "m2 = stream.Measure()\n",
    "m2.append(note.Note('A4'))\n",
    "part2 = [m2] * 8\n",
    "m3 = stream.Measure()\n",
    "m3.append(note.Note('F4'))\n",
    "part3 = [m3] * 8\n",
    "# decompose each part into all their measures\n",
    "parts = [\n",
    "    part1,\n",
    "    part2,\n",
    "    part3\n",
    "]"
   ]
  },
  {
   "cell_type": "code",
   "execution_count": 3,
   "metadata": {},
   "outputs": [],
   "source": [
    "# generate sequence\n",
    "# return a list with element of type (partIndex, numberOfMeasures)\n",
    "def generateSequence(lenOfParts, numberOfParts, cycle, shift):\n",
    "    # check arguments\n",
    "    assert lenOfParts != None\n",
    "    assert numberOfParts > 0\n",
    "    assert cycle >= 0\n",
    "    assert shift >= 0\n",
    "    # initialize sequence and first part\n",
    "    sequence = []\n",
    "    curr = randint(0, numberOfParts - 1)\n",
    "    # fill in sequence\n",
    "    for i in range(cycle):\n",
    "        sequence.append((curr, randint(\n",
    "            max(lenOfParts[curr] - 1 - i - shift, 1), \n",
    "            max(lenOfParts[curr] - 1 - i, 1))))\n",
    "        next = randint(0, numberOfParts - 1)\n",
    "        while next == curr:\n",
    "            next = randint(0, numberOfParts - 1)\n",
    "        curr = next\n",
    "    return sequence"
   ]
  },
  {
   "cell_type": "code",
   "execution_count": 4,
   "metadata": {},
   "outputs": [],
   "source": [
    "def generateStream(parts, sequence):\n",
    "    # check arguments\n",
    "    assert parts != None\n",
    "    assert sequence != None\n",
    "    # initialize stream\n",
    "    s = stream.Stream()\n",
    "    # fill in stream\n",
    "    for seq in sequence:\n",
    "        for i in range(seq[1]):\n",
    "            s.append(deepcopy(parts[seq[0]][i]))\n",
    "    return s"
   ]
  },
  {
   "cell_type": "code",
   "execution_count": 5,
   "metadata": {},
   "outputs": [],
   "source": [
    "# generate final stream\n",
    "def generate(parts, cycle, shift):\n",
    "    # check arguments\n",
    "    assert parts != None\n",
    "    assert cycle >= 0\n",
    "    assert shift >= 0\n",
    "    # get some values\n",
    "    lenOfParts = [len(part) for part in parts]\n",
    "    numberOfParts = len(parts)\n",
    "    # generate sequence\n",
    "    sequence = generateSequence(lenOfParts, numberOfParts, cycle, shift)\n",
    "    # generate stream\n",
    "    return generateStream(parts, sequence)\n",
    "        "
   ]
  },
  {
   "cell_type": "code",
   "execution_count": 6,
   "metadata": {},
   "outputs": [
    {
     "data": {
      "image/png": "[encoded data removed]",
      "text/plain": [
       "<IPython.core.display.Image object>"
      ]
     },
     "metadata": {
      "image/png": {
       "height": 180,
       "width": 708
      }
     },
     "output_type": "display_data"
    }
   ],
   "source": [
    "# define the number of transition\n",
    "cycle = 10\n",
    "# define the range of randomness for the generation of the number of measures\n",
    "shift = 1\n",
    "s = generate(parts, cycle, shift)\n",
    "s.show()"
   ]
  },
  {
   "cell_type": "markdown",
   "metadata": {},
   "source": [
    "# Other generation"
   ]
  },
  {
   "cell_type": "code",
   "execution_count": 26,
   "metadata": {},
   "outputs": [],
   "source": [
    "def generateSequence(nameOfPart, lengthOfPart, maxDuration, limit):\n",
    "    numberOfPart = len(lengthOfPart)\n",
    "    curr = randint(0, numberOfPart - 1)\n",
    "    result = []\n",
    "    total = 0\n",
    "    threeMultipleHelp = 1\n",
    "    while total < limit:\n",
    "        dur = randint(maxDuration - 1, maxDuration)\n",
    "        minDur = 0\n",
    "        if dur != maxDuration:\n",
    "            minDur = 1.0 / randint(1, 4)\n",
    "        if dur + minDur <= lengthOfPart[curr]:\n",
    "            result.append((nameOfPart[curr], dur + minDur))\n",
    "            total += dur + minDur\n",
    "            lengthOfPart[curr] -= dur + minDur\n",
    "        next = randint(0, numberOfPart - 1)\n",
    "        while next == curr or lengthOfPart[next] == 0:\n",
    "            next = randint(0, numberOfPart - 1)\n",
    "        curr = next\n",
    "        if threeMultipleHelp % 3 == 0 and maxDuration != 1:\n",
    "            maxDuration -= 1\n",
    "        threeMultipleHelp += 1\n",
    "    return result"
   ]
  },
  {
   "cell_type": "code",
   "execution_count": 71,
   "metadata": {},
   "outputs": [
    {
     "name": "stdout",
     "output_type": "stream",
     "text": [
      "('A', 5)\n",
      "('C', 4.333333333333333)\n",
      "('B', 4.333333333333333)\n",
      "('C', 3.5)\n",
      "('A', 4)\n",
      "('B', 3.25)\n",
      "('A', 3)\n",
      "('C', 3.0)\n",
      "('A', 2.3333333333333335)\n",
      "('B', 1.3333333333333333)\n",
      "('C', 2)\n",
      "('A', 2.0)\n",
      "('B', 1.0)\n",
      "('C', 1)\n",
      "('B', 1.0)\n",
      "('A', 1.0)\n",
      "('B', 1)\n",
      "('A', 1)\n",
      "('B', 1)\n",
      "('A', 1)\n",
      "('C', 0.25)\n",
      "('A', 1)\n",
      "('B', 1)\n",
      "('C', 0.25)\n",
      "('A', 0.3333333333333333)\n",
      "('C', 1)\n",
      "('A', 1.0)\n"
     ]
    }
   ],
   "source": [
    "nameOfPart = ['A', 'B', 'C']\n",
    "lengthOfPart = [22, 16, 24]\n",
    "maxDuration = 5\n",
    "limit = 50\n",
    "sequence = generateSequence(nameOfPart, lengthOfPart, maxDuration, limit)\n",
    "for part in sequence:\n",
    "    print(part)"
   ]
  },
  {
   "cell_type": "code",
   "execution_count": null,
   "metadata": {},
   "outputs": [],
   "source": []
  }
 ],
 "metadata": {
  "kernelspec": {
   "display_name": "Python 3",
   "language": "python",
   "name": "python3"
  },
  "language_info": {
   "codemirror_mode": {
    "name": "ipython",
    "version": 3
   },
   "file_extension": ".py",
   "mimetype": "text/x-python",
   "name": "python",
   "nbconvert_exporter": "python",
   "pygments_lexer": "ipython3",
   "version": "3.8.5"
  }
 },
 "nbformat": 4,
 "nbformat_minor": 4
}
