{
 "cells": [
  {
   "cell_type": "code",
   "execution_count": 1,
   "metadata": {},
   "outputs": [],
   "source": [
    "# import libraries\n",
    "from music21 import *\n",
    "from random import random, randint\n",
    "import matplotlib.pyplot as plt\n",
    "import numpy as np\n",
    "import math\n",
    "from math import pi"
   ]
  },
  {
   "cell_type": "code",
   "execution_count": 2,
   "metadata": {},
   "outputs": [],
   "source": [
    "# shortcut to play a stream\n",
    "def play(stream):\n",
    "    midi.realtime.StreamPlayer(stream).play()"
   ]
  },
  {
   "cell_type": "markdown",
   "metadata": {},
   "source": [
    "# Intro\n",
    "## Context\n",
    "Here, the intro will represent the moment when a person is falling asleep. i.e. the time between a state where the person is fully conscious and a state where the person is sleeping.\n",
    "## Idea\n",
    "We can think of a transition between chaos (first state) and order (second state).\n",
    "### Chaos\n",
    "Chaos is a good representation of the day of a person because a lot of things happened and sometimes, these events are totally due to randomness.\n",
    "We can represent chaos by taking notes randomly is a certain scale. The fact that these notes can have no relations between them is good to describe chaos. It will certainly sound horrible but this is what we want.\n",
    "### Order\n",
    "As soon as the person is falling asleep, the calm is slowly coming taking the lead of the situation. Up to the moment where the person reached a stable state, where is heartbeat is constant and slowly goes down to stabilise at some point.\n",
    "We can reprensent this by slowly reducing the range of random notes defined in chaos up to a point where just one note is possible. In terms of rhythm, the length of notes will become more and more high as we go deeper in the sleep.\n",
    "## Visualisation of idea\n",
    "we can use functions 1/x and -1/x to visualize the transition between chaos and order. The deeper we go in the sleep (x values), the thinner is the range of notes."
   ]
  },
  {
   "cell_type": "code",
   "execution_count": 3,
   "metadata": {},
   "outputs": [
    {
     "data": {
      "image/png": "[encoded data removed]",
      "text/plain": [
       "<Figure size 720x360 with 1 Axes>"
      ]
     },
     "metadata": {
      "needs_background": "light"
     },
     "output_type": "display_data"
    }
   ],
   "source": [
    "# plot 1/x and -1/x\n",
    "xplot = np.linspace(0.5, 20, 1000)\n",
    "yPos = 1 / xplot\n",
    "yNeg = -1 / xplot\n",
    "fig = plt.figure(figsize = (10, 5))\n",
    "plt.plot(xplot, yPos, label = \"1/x\")\n",
    "plt.plot(xplot, yNeg, label = \"-1/x\")\n",
    "plt.legend()\n",
    "plt.show()"
   ]
  },
  {
   "cell_type": "markdown",
   "metadata": {},
   "source": [
    "# Base\n",
    "We will start by taking a scale that we will reduce by 1 from both side until we reach the single note in the middle"
   ]
  },
  {
   "cell_type": "code",
   "execution_count": 22,
   "metadata": {},
   "outputs": [
    {
     "name": "stdout",
     "output_type": "stream",
     "text": [
      "['C3', 'D3', 'E3', 'F3', 'G3', 'A3', 'B3', 'C4', 'D4', 'E4', 'F4', 'G4', 'A4', 'B4', 'C5']\n"
     ]
    }
   ],
   "source": [
    "# function returning array with char of notes of the major scale\n",
    "def getMajorScale(note):\n",
    "    return [str(n) for n in scale.MajorScale(note).getPitches('C3', 'C5')]\n",
    "\n",
    "# array of notes\n",
    "scl = getMajorScale('C')\n",
    "print(scl)\n",
    "speed = 0.03125"
   ]
  },
  {
   "cell_type": "markdown",
   "metadata": {},
   "source": [
    "# Implementation\n",
    "We will now generate all notes to create this funnel of sound."
   ]
  },
  {
   "cell_type": "code",
   "execution_count": 23,
   "metadata": {},
   "outputs": [
    {
     "name": "stdout",
     "output_type": "stream",
     "text": [
      "0.03125\n",
      "0.03297244094488189\n",
      "0.03469488188976377\n",
      "0.03641732283464566\n",
      "0.03813976377952755\n",
      "0.039862204724409434\n",
      "0.04158464566929132\n",
      "0.04330708661417321\n",
      "0.045029527559055094\n",
      "0.04675196850393698\n",
      "0.04847440944881887\n",
      "0.050196850393700754\n",
      "0.05191929133858264\n",
      "0.05364173228346453\n",
      "0.055364173228346414\n",
      "0.0570866141732283\n",
      "0.05880905511811019\n",
      "0.060531496062992074\n",
      "0.06225393700787396\n",
      "0.06397637795275585\n",
      "0.06569881889763773\n",
      "0.06742125984251962\n",
      "0.06914370078740151\n",
      "0.0708661417322834\n",
      "0.07258858267716528\n",
      "0.07431102362204717\n",
      "0.07603346456692905\n",
      "0.07775590551181094\n",
      "0.07947834645669283\n",
      "0.08120078740157471\n",
      "0.0829232283464566\n",
      "0.08464566929133849\n",
      "0.08636811023622037\n",
      "0.08809055118110226\n",
      "0.08981299212598415\n",
      "0.09153543307086603\n",
      "0.09325787401574792\n",
      "0.09498031496062981\n",
      "0.0967027559055117\n",
      "0.09842519685039358\n",
      "0.10014763779527547\n",
      "0.10187007874015735\n",
      "0.10359251968503924\n",
      "0.10531496062992113\n",
      "0.10703740157480301\n",
      "0.1087598425196849\n",
      "0.11048228346456679\n",
      "0.11220472440944868\n",
      "0.11392716535433056\n",
      "0.11564960629921245\n",
      "0.11737204724409434\n",
      "0.11909448818897622\n",
      "0.12081692913385811\n",
      "0.12253937007874\n",
      "0.12426181102362188\n",
      "0.12598425196850377\n",
      "0.12770669291338566\n",
      "0.12942913385826754\n",
      "0.13115157480314943\n",
      "0.13287401574803132\n",
      "0.1345964566929132\n",
      "0.1363188976377951\n",
      "0.13804133858267698\n",
      "0.13976377952755886\n",
      "0.14148622047244075\n",
      "['D3', 'E3', 'F3', 'G3', 'A3', 'B3', 'C4', 'D4', 'E4', 'F4', 'G4', 'A4', 'B4']\n",
      "96\n",
      "0.14320866141732264\n",
      "0.14493110236220452\n",
      "0.1466535433070864\n",
      "0.1483759842519683\n",
      "0.15009842519685018\n",
      "0.15182086614173207\n",
      "0.15354330708661396\n",
      "0.15526574803149584\n",
      "0.15698818897637773\n",
      "0.15871062992125962\n",
      "0.1604330708661415\n",
      "0.1621555118110234\n",
      "0.16387795275590528\n",
      "0.16560039370078716\n",
      "0.16732283464566905\n",
      "0.16904527559055094\n",
      "0.17076771653543282\n",
      "0.1724901574803147\n",
      "0.1742125984251966\n",
      "0.17593503937007848\n",
      "0.17765748031496037\n",
      "0.17937992125984226\n",
      "0.18110236220472414\n",
      "0.18282480314960603\n",
      "0.18454724409448792\n",
      "0.1862696850393698\n",
      "0.1879921259842517\n",
      "0.18971456692913358\n",
      "0.19143700787401546\n",
      "0.19315944881889735\n",
      "0.19488188976377924\n",
      "0.19660433070866112\n",
      "['E3', 'F3', 'G3', 'A3', 'B3', 'C4', 'D4', 'E4', 'F4', 'G4', 'A4']\n",
      "112\n",
      "0.198326771653543\n",
      "0.2000492125984249\n",
      "0.20177165354330678\n",
      "0.20349409448818867\n",
      "0.20521653543307056\n",
      "0.20693897637795244\n",
      "0.20866141732283433\n",
      "0.21038385826771622\n",
      "0.2121062992125981\n",
      "0.21382874015748\n",
      "0.21555118110236188\n",
      "0.21727362204724376\n",
      "0.21899606299212565\n",
      "0.22071850393700754\n",
      "0.22244094488188942\n",
      "0.2241633858267713\n",
      "['F3', 'G3', 'A3', 'B3', 'C4', 'D4', 'E4', 'F4', 'G4']\n",
      "120\n",
      "0.2258858267716532\n",
      "0.22760826771653508\n",
      "0.22933070866141697\n",
      "0.23105314960629886\n",
      "0.23277559055118074\n",
      "0.23449803149606263\n",
      "0.23622047244094452\n",
      "0.2379429133858264\n",
      "['G3', 'A3', 'B3', 'C4', 'D4', 'E4', 'F4']\n",
      "124\n",
      "0.2396653543307083\n",
      "0.24138779527559018\n",
      "0.24311023622047206\n",
      "0.24483267716535395\n",
      "['A3', 'B3', 'C4', 'D4', 'E4']\n",
      "126\n",
      "0.24655511811023584\n",
      "0.24827755905511772\n",
      "['B3', 'C4', 'D4']\n",
      "127\n"
     ]
    }
   ],
   "source": [
    "s = stream.Stream()\n",
    "step = (0.25 - speed) / 127\n",
    "nextStep = 64\n",
    "n = 5\n",
    "for i in range(127):\n",
    "    s.append(note.Note(scl[randint(0, len(scl) - 1)], quarterLength = 4 * speed))\n",
    "    speed += step\n",
    "    if i >= nextStep:\n",
    "        scl = scl[1:-1]\n",
    "        nextStep += 2 ** n\n",
    "        n -= 1\n",
    "s.append(note.Note(scl[1:-1][0], quarterLength = 4))\n",
    "#s.show()"
   ]
  },
  {
   "cell_type": "code",
   "execution_count": 24,
   "metadata": {},
   "outputs": [],
   "source": [
    "play(s)"
   ]
  },
  {
   "cell_type": "code",
   "execution_count": null,
   "metadata": {},
   "outputs": [],
   "source": []
  }
 ],
 "metadata": {
  "kernelspec": {
   "display_name": "Python 3",
   "language": "python",
   "name": "python3"
  },
  "language_info": {
   "codemirror_mode": {
    "name": "ipython",
    "version": 3
   },
   "file_extension": ".py",
   "mimetype": "text/x-python",
   "name": "python",
   "nbconvert_exporter": "python",
   "pygments_lexer": "ipython3",
   "version": "3.8.5"
  }
 },
 "nbformat": 4,
 "nbformat_minor": 4
}
