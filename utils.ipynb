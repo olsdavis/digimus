{
 "cells": [
  {
   "cell_type": "code",
   "execution_count": 142,
   "metadata": {},
   "outputs": [],
   "source": [
    "# import libraries\n",
    "from music21 import *\n",
    "from random import randint\n",
    "from copy import deepcopy"
   ]
  },
  {
   "cell_type": "code",
   "execution_count": 143,
   "metadata": {},
   "outputs": [],
   "source": [
    "# example\n",
    "m1 = stream.Measure()\n",
    "m1.append(note.Note('C5'))\n",
    "part1 = [m1] * 8\n",
    "m2 = stream.Measure()\n",
    "m2.append(note.Note('B5'))\n",
    "part2 = [m2] * 8\n",
    "m3 = stream.Measure()\n",
    "m3.append(note.Note('A5'))\n",
    "part3 = [m3] * 8\n",
    "# decompose each part into all their measures\n",
    "parts = [\n",
    "    part1,\n",
    "    part2,\n",
    "    part3\n",
    "]"
   ]
  },
  {
   "cell_type": "code",
   "execution_count": 144,
   "metadata": {},
   "outputs": [],
   "source": [
    "# generate sequence\n",
    "# return a list with element of type (partIndex, numberOfMeasures)\n",
    "def generateSequence(lenOfParts, numberOfParts, cycle, shift):\n",
    "    # check arguments\n",
    "    assert lenOfParts != None\n",
    "    assert numberOfParts > 0\n",
    "    assert cycle >= 0\n",
    "    assert shift >= 0\n",
    "    # initialize sequence and first part\n",
    "    sequence = []\n",
    "    curr = randint(0, numberOfParts - 1)\n",
    "    # fill in sequence\n",
    "    for i in range(cycle):\n",
    "        sequence.append((curr, randint(\n",
    "            max(lenOfParts[curr] - 1 - i - shift, 1), \n",
    "            max(lenOfParts[curr] - 1 - i, 1))))\n",
    "        next = randint(0, numberOfParts - 1)\n",
    "        while next == curr:\n",
    "            next = randint(0, numberOfParts - 1)\n",
    "        curr = next\n",
    "    return sequence"
   ]
  },
  {
   "cell_type": "code",
   "execution_count": 145,
   "metadata": {},
   "outputs": [],
   "source": [
    "def generateStream(parts, sequence):\n",
    "    # check arguments\n",
    "    assert sequence != None\n",
    "    # initialize stream\n",
    "    s = stream.Stream()\n",
    "    # fill in stream\n",
    "    for seq in sequence:\n",
    "        for i in range(seq[1]):\n",
    "            s.append(deepcopy(parts[seq[0]][i]))\n",
    "    return s"
   ]
  },
  {
   "cell_type": "code",
   "execution_count": 146,
   "metadata": {},
   "outputs": [],
   "source": [
    "# generate final stream\n",
    "def generate(parts, cycle, shift):\n",
    "    # check arguments\n",
    "    assert parts != None\n",
    "    assert cycle >= 0\n",
    "    assert shift >= 0\n",
    "    # get some values\n",
    "    lenOfParts = [len(part) for part in parts]\n",
    "    numberOfParts = len(parts)\n",
    "    # generate sequence\n",
    "    sequence = generateSequence(lenOfParts, numberOfParts, cycle, shift)\n",
    "    # generate stream\n",
    "    return generateStream(parts, sequence)\n",
    "        "
   ]
  },
  {
   "cell_type": "code",
   "execution_count": 148,
   "metadata": {},
   "outputs": [
    {
     "data": {
      "image/png": "[encoded data removed]",
      "text/plain": [
       "<IPython.core.display.Image object>"
      ]
     },
     "metadata": {
      "image/png": {
       "height": 180,
       "width": 708
      }
     },
     "output_type": "display_data"
    }
   ],
   "source": [
    "# define the number of transition\n",
    "cycle = 10\n",
    "# define the range of randomness for the generation of the number of measures\n",
    "shift = 1\n",
    "s = generate(parts, cycle, shift)\n",
    "s.show()"
   ]
  },
  {
   "cell_type": "code",
   "execution_count": null,
   "metadata": {},
   "outputs": [],
   "source": []
  }
 ],
 "metadata": {
  "kernelspec": {
   "display_name": "Python 3",
   "language": "python",
   "name": "python3"
  },
  "language_info": {
   "codemirror_mode": {
    "name": "ipython",
    "version": 3
   },
   "file_extension": ".py",
   "mimetype": "text/x-python",
   "name": "python",
   "nbconvert_exporter": "python",
   "pygments_lexer": "ipython3",
   "version": "3.8.5"
  }
 },
 "nbformat": 4,
 "nbformat_minor": 4
}
