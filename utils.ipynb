{
 "cells": [
  {
   "cell_type": "code",
   "execution_count": 1,
   "metadata": {},
   "outputs": [],
   "source": [
    "# import libraries\n",
    "from music21 import *\n",
    "from random import randint\n",
    "from copy import deepcopy"
   ]
  },
  {
   "cell_type": "code",
   "execution_count": 2,
   "metadata": {},
   "outputs": [],
   "source": [
    "# example\n",
    "m1 = stream.Measure()\n",
    "m1.append(note.Note('C5'))\n",
    "part1 = [m1] * 8\n",
    "m2 = stream.Measure()\n",
    "m2.append(note.Note('A4'))\n",
    "part2 = [m2] * 8\n",
    "m3 = stream.Measure()\n",
    "m3.append(note.Note('F4'))\n",
    "part3 = [m3] * 8\n",
    "# decompose each part into all their measures\n",
    "parts = [\n",
    "    part1,\n",
    "    part2,\n",
    "    part3\n",
    "]"
   ]
  },
  {
   "cell_type": "code",
   "execution_count": 3,
   "metadata": {},
   "outputs": [],
   "source": [
    "# generate sequence\n",
    "# return a list with element of type (partIndex, numberOfMeasures)\n",
    "def generateSequence(lenOfParts, numberOfParts, cycle, shift):\n",
    "    # check arguments\n",
    "    assert lenOfParts != None\n",
    "    assert numberOfParts > 0\n",
    "    assert cycle >= 0\n",
    "    assert shift >= 0\n",
    "    # initialize sequence and first part\n",
    "    sequence = []\n",
    "    curr = randint(0, numberOfParts - 1)\n",
    "    # fill in sequence\n",
    "    for i in range(cycle):\n",
    "        sequence.append((curr, randint(\n",
    "            max(lenOfParts[curr] - 1 - i - shift, 1), \n",
    "            max(lenOfParts[curr] - 1 - i, 1))))\n",
    "        next = randint(0, numberOfParts - 1)\n",
    "        while next == curr:\n",
    "            next = randint(0, numberOfParts - 1)\n",
    "        curr = next\n",
    "    return sequence"
   ]
  },
  {
   "cell_type": "code",
   "execution_count": 4,
   "metadata": {},
   "outputs": [],
   "source": [
    "def generateStream(parts, sequence):\n",
    "    # check arguments\n",
    "    assert parts != None\n",
    "    assert sequence != None\n",
    "    # initialize stream\n",
    "    s = stream.Stream()\n",
    "    # fill in stream\n",
    "    for seq in sequence:\n",
    "        for i in range(seq[1]):\n",
    "            s.append(deepcopy(parts[seq[0]][i]))\n",
    "    return s"
   ]
  },
  {
   "cell_type": "code",
   "execution_count": 5,
   "metadata": {},
   "outputs": [],
   "source": [
    "# generate final stream\n",
    "def generate(parts, cycle, shift):\n",
    "    # check arguments\n",
    "    assert parts != None\n",
    "    assert cycle >= 0\n",
    "    assert shift >= 0\n",
    "    # get some values\n",
    "    lenOfParts = [len(part) for part in parts]\n",
    "    numberOfParts = len(parts)\n",
    "    # generate sequence\n",
    "    sequence = generateSequence(lenOfParts, numberOfParts, cycle, shift)\n",
    "    # generate stream\n",
    "    return generateStream(parts, sequence)\n",
    "        "
   ]
  },
  {
   "cell_type": "code",
   "execution_count": 6,
   "metadata": {},
   "outputs": [
    {
     "data": {
      "image/png": "[encoded data removed]",
      "text/plain": [
       "<IPython.core.display.Image object>"
      ]
     },
     "metadata": {
      "image/png": {
       "height": 180,
       "width": 708
      }
     },
     "output_type": "display_data"
    }
   ],
   "source": [
    "# define the number of transition\n",
    "cycle = 10\n",
    "# define the range of randomness for the generation of the number of measures\n",
    "shift = 1\n",
    "s = generate(parts, cycle, shift)\n",
    "s.show()"
   ]
  },
  {
   "cell_type": "markdown",
   "metadata": {},
   "source": [
    "# Other generation"
   ]
  },
  {
   "cell_type": "code",
   "execution_count": 7,
   "metadata": {},
   "outputs": [],
   "source": [
    "def generateSequence(nameOfPart, lengthOfPart, maxDuration, limit):\n",
    "    numberOfPart = len(lengthOfPart)\n",
    "    curr = randint(0, numberOfPart - 1)\n",
    "    result = []\n",
    "    total = 0\n",
    "    help = 1\n",
    "    last = 0\n",
    "    while total < limit:\n",
    "        entier = randint(maxDuration - 1, maxDuration)\n",
    "        frac = 0\n",
    "        if entier != maxDuration:\n",
    "            frac = randint(0, 3) * 0.25\n",
    "        time = entier + frac\n",
    "        while time == last:\n",
    "            entier = randint(maxDuration - 1, maxDuration)\n",
    "            frac = 0\n",
    "            if entier != maxDuration:\n",
    "                frac = randint(0, 3) * 0.25\n",
    "            time = entier + frac\n",
    "        last = time\n",
    "        if time <= lengthOfPart[curr]:\n",
    "            result.append((nameOfPart[curr], time))\n",
    "            total += time\n",
    "            lengthOfPart[curr] -= time\n",
    "        next = randint(0, numberOfPart - 1)\n",
    "        while next == curr or lengthOfPart[next] == 0:\n",
    "            next = randint(0, numberOfPart - 1)\n",
    "        curr = next\n",
    "        if help % 3 == 0 and maxDuration != 1:\n",
    "            maxDuration -= 1\n",
    "        help += 1\n",
    "    return result"
   ]
  },
  {
   "cell_type": "code",
   "execution_count": 8,
   "metadata": {},
   "outputs": [
    {
     "name": "stdout",
     "output_type": "stream",
     "text": [
      "('B', 5.5)\n",
      "('A', 6)\n",
      "('B', 5.75)\n",
      "('A', 5)\n",
      "('B', 4.25)\n",
      "('A', 5)\n",
      "('B', 3.5)\n",
      "('A', 3.75)\n",
      "('B', 3.5)\n",
      "('A', 3)\n",
      "('B', 2.5)\n",
      "('A', 3)\n",
      "('B', 1.25)\n",
      "('A', 2)\n",
      "('B', 1.25)\n",
      "('A', 1)\n",
      "('B', 0.25)\n",
      "('A', 1)\n",
      "('B', 0.25)\n",
      "('A', 1)\n",
      "('B', 0.0)\n",
      "('A', 0.25)\n",
      "('B', 0.75)\n",
      "('A', 0.5)\n"
     ]
    }
   ],
   "source": [
    "nameOfPart = ['A', 'B']\n",
    "lengthOfPart = [32, 32]\n",
    "maxDuration = 6\n",
    "limit = 60\n",
    "sequence = generateSequence(nameOfPart, lengthOfPart, maxDuration, limit)\n",
    "for part in sequence:\n",
    "    print(part)"
   ]
  },
  {
   "cell_type": "markdown",
   "metadata": {},
   "source": [
    "# Clean version"
   ]
  },
  {
   "cell_type": "code",
   "execution_count": 71,
   "metadata": {},
   "outputs": [],
   "source": [
    "# return a random duration\n",
    "def getDuration(maxDuration):\n",
    "    integer = randint(maxDuration - 1, maxDuration)\n",
    "    frac = 0\n",
    "    if integer != maxDuration:\n",
    "        frac = randint(0, 3) * 0.25\n",
    "    return integer + frac\n",
    "\n",
    "# return next part\n",
    "def getNextPart(curr, numberOfParts, nameOfParts, parts):\n",
    "    nextp = randint(0, numberOfParts - 1)\n",
    "    while nextp == curr or parts[nameOfParts[nextp]] == 0:\n",
    "        nextp = randint(0, numberOfParts - 1)\n",
    "    return nextp\n",
    "\n",
    "# generate full sequence \n",
    "def generateSequence(parts, maxDuration, total):\n",
    "    # check arguments\n",
    "    assert parts != None\n",
    "    assert maxDuration != None\n",
    "    assert total != None\n",
    "    totalDuration = 0\n",
    "    for part in parts:\n",
    "        totalDuration += parts[part]\n",
    "    assert totalDuration >= total\n",
    "    # define usefull values\n",
    "    nameOfParts = [name for name in parts]\n",
    "    numberOfParts = len(nameOfParts)\n",
    "    # current part (represented by array index)\n",
    "    curr = randint(0, numberOfParts - 1)\n",
    "    result = []\n",
    "    count = 0\n",
    "    i = 0\n",
    "    duration = 0\n",
    "    lastDuration = 0\n",
    "    # generation\n",
    "    while count < total:\n",
    "        # determine the duration of the next measure(s)\n",
    "        lastDuration = duration\n",
    "        duration = getDuration(maxDuration)\n",
    "        while duration == lastDuration:\n",
    "            duration = getDuration(maxDuration)\n",
    "        # check that there is enough reamaining measures for current part\n",
    "        if duration < parts[nameOfParts[curr]]:\n",
    "            # add section to the result\n",
    "            result.append((nameOfParts[curr], duration))\n",
    "            # increment count\n",
    "            count += duration\n",
    "            # decrement remaining measures for current part\n",
    "            parts[nameOfParts[curr]] -= duration\n",
    "        # select next part\n",
    "        curr = getNextPart(curr, numberOfParts, nameOfParts, parts)\n",
    "        # update maxDuration every 3 cycles\n",
    "        if i % 4 == 0 and maxDuration != 1:\n",
    "            maxDuration -= 1\n",
    "        i += 1\n",
    "    return result"
   ]
  },
  {
   "cell_type": "code",
   "execution_count": 75,
   "metadata": {},
   "outputs": [
    {
     "name": "stdout",
     "output_type": "stream",
     "text": [
      "('B', 6)\n",
      "('A', 4.25)\n",
      "('B', 5)\n",
      "('A', 4.0)\n",
      "('B', 5)\n",
      "('A', 4)\n",
      "('B', 3.25)\n",
      "('A', 4)\n",
      "('B', 3.75)\n",
      "('A', 2.25)\n",
      "('B', 2.5)\n",
      "('A', 3)\n",
      "('B', 2.5)\n",
      "('A', 1.75)\n",
      "('B', 1.25)\n",
      "('A', 2)\n",
      "('B', 1.5)\n",
      "('A', 0.25)\n",
      "('B', 0.0)\n",
      "('A', 0.25)\n",
      "('B', 0.75)\n",
      "('A', 1)\n",
      "('A', 1)\n",
      "('B', 0.0)\n",
      "('A', 0.5)\n",
      "('A', 0.0)\n",
      "('A', 0.0)\n",
      "('A', 0.75)\n"
     ]
    }
   ],
   "source": [
    "parts = {\n",
    "    \"A\": 32,\n",
    "    \"B\": 32,\n",
    "}\n",
    "maxDuration = 6\n",
    "total = 60\n",
    "\n",
    "sequence = generateSequence(parts, maxDuration, total)\n",
    "for part in sequence:\n",
    "    print(part)"
   ]
  },
  {
   "cell_type": "code",
   "execution_count": null,
   "metadata": {},
   "outputs": [],
   "source": []
  }
 ],
 "metadata": {
  "kernelspec": {
   "display_name": "Python 3",
   "language": "python",
   "name": "python3"
  },
  "language_info": {
   "codemirror_mode": {
    "name": "ipython",
    "version": 3
   },
   "file_extension": ".py",
   "mimetype": "text/x-python",
   "name": "python",
   "nbconvert_exporter": "python",
   "pygments_lexer": "ipython3",
   "version": "3.8.5"
  }
 },
 "nbformat": 4,
 "nbformat_minor": 4
}
