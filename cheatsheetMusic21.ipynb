{
 "cells": [
  {
   "cell_type": "markdown",
   "metadata": {},
   "source": [
    "# Cheatsheet for how to use Music21 in Python"
   ]
  },
  {
   "cell_type": "code",
   "execution_count": 61,
   "metadata": {},
   "outputs": [],
   "source": [
    "# import libraries\n",
    "from music21 import *"
   ]
  },
  {
   "cell_type": "code",
   "execution_count": 62,
   "metadata": {},
   "outputs": [],
   "source": [
    "# shortcut to play a stream\n",
    "def play(stream):\n",
    "    midi.realtime.StreamPlayer(stream).play()"
   ]
  },
  {
   "cell_type": "markdown",
   "metadata": {},
   "source": [
    "## Basics"
   ]
  },
  {
   "cell_type": "code",
   "execution_count": 63,
   "metadata": {},
   "outputs": [
    {
     "data": {
      "image/png": "[encoded data removed]",
      "text/plain": [
       "<IPython.core.display.Image object>"
      ]
     },
     "metadata": {
      "image/png": {
       "height": 49,
       "width": 188
      }
     },
     "output_type": "display_data"
    }
   ],
   "source": [
    "# create a note\n",
    "C5 = note.Note(\"C5\")\n",
    "\n",
    "# create a measure\n",
    "m = stream.Measure(0) # the argument represent the number of the measure\n",
    "\n",
    "# add time signature to a measure\n",
    "m.append(meter.TimeSignature('4/4'))\n",
    "\n",
    "# add a note to a measure\n",
    "m.append(C5)\n",
    "\n",
    "# create a stream\n",
    "s = stream.Stream()\n",
    "\n",
    "# add a measure to a stream\n",
    "s.append(m)\n",
    "\n",
    "# show a stream\n",
    "s.show()\n",
    "\n",
    "# play the stream\n",
    "play(s)"
   ]
  },
  {
   "cell_type": "markdown",
   "metadata": {},
   "source": [
    "## More on notes"
   ]
  },
  {
   "cell_type": "code",
   "execution_count": 78,
   "metadata": {},
   "outputs": [
    {
     "data": {
      "image/png": "[encoded data removed]",
      "text/plain": [
       "<IPython.core.display.Image object>"
      ]
     },
     "metadata": {
      "image/png": {
       "height": 53,
       "width": 348
      }
     },
     "output_type": "display_data"
    }
   ],
   "source": [
    "m = stream.Measure(0)\n",
    "s = stream.Stream()\n",
    "\n",
    "# durations\n",
    "WHOLE = 1\n",
    "HALF = 0.5\n",
    "QUARTER = 0.25\n",
    "EIGHTH = 0.125\n",
    "SIXTEENTH = 0.06125\n",
    "\n",
    "# scale\n",
    "def getMajorScale(note):\n",
    "    return [str(n) for n in scale.MajorScale(note).getPitches('C4', 'C5')]\n",
    "\n",
    "# play all notes in a array\n",
    "m.append([note.Note(n, quarterLength = EIGHTH * 4) for n in getMajorScale('C')])\n",
    "s.append(m)\n",
    "s.show()\n",
    "play(s)"
   ]
  },
  {
   "cell_type": "code",
   "execution_count": null,
   "metadata": {},
   "outputs": [],
   "source": []
  },
  {
   "cell_type": "code",
   "execution_count": null,
   "metadata": {},
   "outputs": [],
   "source": []
  }
 ],
 "metadata": {
  "kernelspec": {
   "display_name": "Python 3",
   "language": "python",
   "name": "python3"
  },
  "language_info": {
   "codemirror_mode": {
    "name": "ipython",
    "version": 3
   },
   "file_extension": ".py",
   "mimetype": "text/x-python",
   "name": "python",
   "nbconvert_exporter": "python",
   "pygments_lexer": "ipython3",
   "version": "3.8.5"
  }
 },
 "nbformat": 4,
 "nbformat_minor": 4
}
